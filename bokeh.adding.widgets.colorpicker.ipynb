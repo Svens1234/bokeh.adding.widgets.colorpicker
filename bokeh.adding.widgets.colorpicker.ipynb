{
 "cells": [
  {
   "cell_type": "code",
   "execution_count": 1,
   "id": "bbb47909",
   "metadata": {},
   "outputs": [],
   "source": [
    "from bokeh.io import show\n",
    "from bokeh.layouts import column\n",
    "from bokeh.models import ColorPicker\n",
    "from bokeh.plotting import Figure"
   ]
  },
  {
   "cell_type": "code",
   "execution_count": 2,
   "id": "190b6794",
   "metadata": {},
   "outputs": [],
   "source": [
    "plot = Figure(x_range=(0, 1), y_range=(0, 1), width=350, height=350)\n",
    "line = plot.line(x=(0,1), y=(0,1), color=\"black\", line_width=4)\n",
    "\n",
    "picker = ColorPicker(title=\"Line Color\")\n",
    "picker.js_link('color', line.glyph, 'line_color')\n",
    "\n",
    "show(column(plot, picker))"
   ]
  },
  {
   "cell_type": "code",
   "execution_count": null,
   "id": "97d24f35",
   "metadata": {},
   "outputs": [],
   "source": []
  }
 ],
 "metadata": {
  "kernelspec": {
   "display_name": "Python 3 (ipykernel)",
   "language": "python",
   "name": "python3"
  },
  "language_info": {
   "codemirror_mode": {
    "name": "ipython",
    "version": 3
   },
   "file_extension": ".py",
   "mimetype": "text/x-python",
   "name": "python",
   "nbconvert_exporter": "python",
   "pygments_lexer": "ipython3",
   "version": "3.10.5"
  }
 },
 "nbformat": 4,
 "nbformat_minor": 5
}
